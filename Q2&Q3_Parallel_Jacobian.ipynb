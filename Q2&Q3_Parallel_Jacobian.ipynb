{
 "cells": [
  {
   "cell_type": "code",
   "execution_count": 15,
   "metadata": {},
   "outputs": [],
   "source": [
    "from sympy import *\n",
    "l_1 = Symbol('l_1')\n",
    "l_2 = Symbol('l_2')\n",
    "theta_1 = Symbol('theta_1')\n",
    "theta_2 = Symbol('theta_2')\n",
    "x = Symbol('x')\n",
    "y = Symbol('y')\n",
    "dxdtheta_1 = Symbol('dxdtheta_1')\n",
    "dxdtheta_2 = Symbol('dxdtheta_2')\n",
    "dydtheta_1 = Symbol('dydtheta_1')\n",
    "dydtheta_2 = Symbol('dydtheta_2')"
   ]
  },
  {
   "cell_type": "code",
   "execution_count": 16,
   "metadata": {},
   "outputs": [],
   "source": [
    "x = ( l_1*cos((theta_2-theta_1)/2) + l_2*sin(acos(l_1/l_2*sin(theta_2/2-theta_1/2))) ) * cos(theta_1/2+theta_2/2)\n",
    "y = ( l_1*cos((theta_2-theta_1)/2) + l_2*sin(acos(l_1/l_2*sin(theta_2/2-theta_1/2))) ) * sin(theta_1/2+theta_2/2)"
   ]
  },
  {
   "cell_type": "code",
   "execution_count": 17,
   "metadata": {},
   "outputs": [
    {
     "name": "stdout",
     "output_type": "stream",
     "text": [
      "sqrt(2)*(l_1**2*sin(theta_1/2 + theta_2/2)/2 - l_1**2*sin(3*theta_1/2 - theta_2/2)/2 - l_1*l_2*sqrt(l_1**2*cos(theta_1 - theta_2)/(2*l_2**2) - l_1**2/(2*l_2**2) + 1)*sin(theta_1) - l_2**2*sin(theta_1/2 + theta_2/2))/(2*l_2*sqrt(l_1**2*cos(theta_1 - theta_2)/l_2**2 - l_1**2/l_2**2 + 2))\n",
      "sqrt(2)*(l_1**2*sin(theta_1/2 - 3*theta_2/2)/2 + l_1**2*sin(theta_1/2 + theta_2/2)/2 - l_1*l_2*sqrt(l_1**2*cos(theta_1 - theta_2)/(2*l_2**2) - l_1**2/(2*l_2**2) + 1)*sin(theta_2) - l_2**2*sin(theta_1/2 + theta_2/2))/(2*l_2*sqrt(l_1**2*cos(theta_1 - theta_2)/l_2**2 - l_1**2/l_2**2 + 2))\n",
      "sqrt(2)*(-l_1**2*cos(theta_1/2 + theta_2/2)/2 + l_1**2*cos(3*theta_1/2 - theta_2/2)/2 + l_1*l_2*sqrt(l_1**2*cos(theta_1 - theta_2)/(2*l_2**2) - l_1**2/(2*l_2**2) + 1)*cos(theta_1) + l_2**2*cos(theta_1/2 + theta_2/2))/(2*l_2*sqrt(l_1**2*cos(theta_1 - theta_2)/l_2**2 - l_1**2/l_2**2 + 2))\n",
      "sqrt(2)*(l_1**2*cos(theta_1/2 - 3*theta_2/2)/2 - l_1**2*cos(theta_1/2 + theta_2/2)/2 + l_1*l_2*sqrt(l_1**2*cos(theta_1 - theta_2)/(2*l_2**2) - l_1**2/(2*l_2**2) + 1)*cos(theta_2) + l_2**2*cos(theta_1/2 + theta_2/2))/(2*l_2*sqrt(l_1**2*cos(theta_1 - theta_2)/l_2**2 - l_1**2/l_2**2 + 2))\n"
     ]
    }
   ],
   "source": [
    "dxdtheta_1= simplify(diff(x,theta_1))\n",
    "print(dxdtheta_1)\n",
    "dxdtheta_2= simplify(diff(x,theta_2))\n",
    "print(dxdtheta_2)\n",
    "dydtheta_1= simplify(diff(y,theta_1))\n",
    "print(dydtheta_1)\n",
    "dydtheta_2= simplify(diff(y,theta_2))\n",
    "print(dydtheta_2)"
   ]
  },
  {
   "cell_type": "code",
   "execution_count": 19,
   "metadata": {},
   "outputs": [],
   "source": [
    "pi = 3.14\n",
    "J_11 = dxdtheta_1.subs([(theta_1,45/180*pi),(theta_2,135/180*pi),(l_1,0.1), (l_2,0.1)])\n",
    "J_12 = dxdtheta_2.subs([(theta_1,45/180*pi),(theta_2,135/180*pi),(l_1,0.1), (l_2,0.1)])\n",
    "J_21 = dydtheta_1.subs([(theta_1,45/180*pi),(theta_2,135/180*pi),(l_1,0.1), (l_2,0.1)])\n",
    "J_22 = dydtheta_2.subs([(theta_1,45/180*pi),(theta_2,135/180*pi),(l_1,0.1), (l_2,0.1)])"
   ]
  },
  {
   "cell_type": "code",
   "execution_count": 20,
   "metadata": {},
   "outputs": [
    {
     "name": "stdout",
     "output_type": "stream",
     "text": [
      "-0.0499800878673014*sqrt(2)\n",
      "-0.0500596888252485*sqrt(2)\n",
      "0.0500199042059942*sqrt(2)\n",
      "-0.0499402398344191*sqrt(2)\n"
     ]
    }
   ],
   "source": [
    "print(J_11)\n",
    "print(J_12)\n",
    "print(J_21)\n",
    "print(J_22)"
   ]
  },
  {
   "cell_type": "code",
   "execution_count": null,
   "metadata": {},
   "outputs": [],
   "source": []
  }
 ],
 "metadata": {
  "kernelspec": {
   "display_name": "Python 3",
   "language": "python",
   "name": "python3"
  },
  "language_info": {
   "codemirror_mode": {
    "name": "ipython",
    "version": 3
   },
   "file_extension": ".py",
   "mimetype": "text/x-python",
   "name": "python",
   "nbconvert_exporter": "python",
   "pygments_lexer": "ipython3",
   "version": "3.7.3"
  }
 },
 "nbformat": 4,
 "nbformat_minor": 2
}
